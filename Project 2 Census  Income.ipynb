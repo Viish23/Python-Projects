{
  "nbformat": 4,
  "nbformat_minor": 0,
  "metadata": {
    "colab": {
      "private_outputs": true,
      "provenance": []
    },
    "kernelspec": {
      "name": "python3",
      "display_name": "Python 3"
    },
    "language_info": {
      "name": "python"
    }
  },
  "cells": [
    {
      "cell_type": "code",
      "execution_count": null,
      "metadata": {
        "id": "QyLcpS7hEO1U"
      },
      "outputs": [],
      "source": [
        "#  - Importing all the required libraries\n",
        "import numpy as np\n",
        "import pandas as pd\n",
        "import matplotlib.pyplot as plt\n",
        "import seaborn as sns"
      ]
    },
    {
      "cell_type": "code",
      "source": [
        "#  -> Read data set\n",
        "df = pd.read_csv('census_income.csv')"
      ],
      "metadata": {
        "id": "xDJSDtWGIRq9"
      },
      "execution_count": null,
      "outputs": []
    },
    {
      "cell_type": "code",
      "source": [
        "df"
      ],
      "metadata": {
        "id": "ZH45wR_iIoWu"
      },
      "execution_count": null,
      "outputs": []
    },
    {
      "cell_type": "markdown",
      "source": [
        "We have to predict Annual income of a individual whether more than 50k or less 50k (annual_income -> Target Column)"
      ],
      "metadata": {
        "id": "fCq_JXANLXB9"
      }
    },
    {
      "cell_type": "code",
      "source": [
        "# To change the column name\n",
        "df.rename(columns={\"annual_income\": \"income\"},inplace = True)"
      ],
      "metadata": {
        "id": "MgoVF-zaJPjD"
      },
      "execution_count": null,
      "outputs": []
    },
    {
      "cell_type": "code",
      "source": [
        "df"
      ],
      "metadata": {
        "id": "zSgK4PocMPGA"
      },
      "execution_count": null,
      "outputs": []
    },
    {
      "cell_type": "code",
      "source": [
        "# EDA (We need to explore the data)\n",
        "df['income'].value_counts()"
      ],
      "metadata": {
        "id": "DovEo4eaMP6G"
      },
      "execution_count": null,
      "outputs": []
    },
    {
      "cell_type": "markdown",
      "source": [
        "Most of the individuals are getting less 50K"
      ],
      "metadata": {
        "id": "IboheB-aMtZY"
      }
    },
    {
      "cell_type": "code",
      "source": [
        "df.info()"
      ],
      "metadata": {
        "id": "47h1TXgVNASs"
      },
      "execution_count": null,
      "outputs": []
    },
    {
      "cell_type": "code",
      "source": [
        "df['workclass'].value_counts()"
      ],
      "metadata": {
        "id": "tSW96zOOMlZ3"
      },
      "execution_count": null,
      "outputs": []
    },
    {
      "cell_type": "code",
      "source": [
        "df['native-country'].unique()"
      ],
      "metadata": {
        "id": "xzUonWFCNXvT"
      },
      "execution_count": null,
      "outputs": []
    },
    {
      "cell_type": "code",
      "source": [
        "# Step -4 Now i going to clean the data\n",
        "df.isnull().sum()"
      ],
      "metadata": {
        "id": "Vclc3PfMOMq6"
      },
      "execution_count": null,
      "outputs": []
    },
    {
      "cell_type": "code",
      "source": [
        "# We have ? that represents my null value\n",
        "# We are going to replay ? with null values\n",
        "df= df.replace(\"?\",np.nan)"
      ],
      "metadata": {
        "id": "lohOthvzOrj8"
      },
      "execution_count": null,
      "outputs": []
    },
    {
      "cell_type": "code",
      "source": [
        "df.isnull().sum()"
      ],
      "metadata": {
        "id": "VfYIZipHPjWA"
      },
      "execution_count": null,
      "outputs": []
    },
    {
      "cell_type": "code",
      "source": [
        "# When we have more than 15k / 20k rows then we check if 30% data is null then we can simply drop the null values\n",
        "# If we have less rows 5k/10k -> i will fill my rows with central tendecies"
      ],
      "metadata": {
        "id": "QZ7gu3wHQEPK"
      },
      "execution_count": null,
      "outputs": []
    },
    {
      "cell_type": "code",
      "source": [
        "df.dropna(inplace = True)"
      ],
      "metadata": {
        "id": "NBjA8SDpS3ro"
      },
      "execution_count": null,
      "outputs": []
    },
    {
      "cell_type": "code",
      "source": [
        "df.isnull().sum()"
      ],
      "metadata": {
        "id": "unLlxj9hS4iP"
      },
      "execution_count": null,
      "outputs": []
    },
    {
      "cell_type": "code",
      "source": [
        "df.info()"
      ],
      "metadata": {
        "id": "xxMkrOEwS6_F"
      },
      "execution_count": null,
      "outputs": []
    },
    {
      "cell_type": "code",
      "source": [
        "# Duplicate records (Simply drop it)\n",
        "df.duplicated().sum()"
      ],
      "metadata": {
        "id": "uPF5N9-iS8zs"
      },
      "execution_count": null,
      "outputs": []
    },
    {
      "cell_type": "code",
      "source": [
        "df.drop_duplicates(inplace=True)"
      ],
      "metadata": {
        "id": "R2YSmcgXTMTi"
      },
      "execution_count": null,
      "outputs": []
    },
    {
      "cell_type": "code",
      "source": [
        "df.duplicated().sum()"
      ],
      "metadata": {
        "id": "YCuyDlClT1u4"
      },
      "execution_count": null,
      "outputs": []
    },
    {
      "cell_type": "code",
      "source": [
        "# Check the outliers\n",
        "plt.boxplot(df['age'])"
      ],
      "metadata": {
        "id": "Oq2mdTpNT4nS"
      },
      "execution_count": null,
      "outputs": []
    },
    {
      "cell_type": "code",
      "source": [
        "# Check for the outliers in numerical columns\n",
        "for col in df.columns:\n",
        "  if df[col].dtype !=\"object\":\n",
        "    plt.boxplot(df[col])\n",
        "    plt.xlabel(col)\n",
        "    plt.show()"
      ],
      "metadata": {
        "id": "aaJxn6m6UNPU"
      },
      "execution_count": null,
      "outputs": []
    },
    {
      "cell_type": "code",
      "source": [
        "# Ignore the outlier of capital gain and capital loss (values of money earned in stock market)"
      ],
      "metadata": {
        "id": "yrJOoXxrUxNL"
      },
      "execution_count": null,
      "outputs": []
    },
    {
      "cell_type": "code",
      "source": [
        "# make a list of columns having outlier\n",
        "out_col = ['hours-per-week','age','education-num','fnlwgt']"
      ],
      "metadata": {
        "id": "VNw_i-9EVaj1"
      },
      "execution_count": null,
      "outputs": []
    },
    {
      "cell_type": "code",
      "source": [
        "for col in out_col:\n",
        "  Q1 = df[col].quantile(0.25)\n",
        "  Q3 = df[col].quantile(0.75)\n",
        "  IQR = Q3 - Q1\n",
        "  UF = Q3 + 1.5 * IQR\n",
        "  LF = Q1 -1.5 * IQR\n",
        "  df = df[(df[col]>=LF) & (df[col]<=UF)]"
      ],
      "metadata": {
        "id": "jhcmNywZV29V"
      },
      "execution_count": null,
      "outputs": []
    },
    {
      "cell_type": "code",
      "source": [
        "for col in df.columns:\n",
        "  if df[col].dtype !=\"object\":\n",
        "    plt.boxplot(df[col])\n",
        "    plt.xlabel(col)\n",
        "    plt.show()"
      ],
      "metadata": {
        "id": "ILB2KZTZV4GO"
      },
      "execution_count": null,
      "outputs": []
    },
    {
      "cell_type": "code",
      "source": [
        "df.info()"
      ],
      "metadata": {
        "id": "FZsWFnHoXbC0"
      },
      "execution_count": null,
      "outputs": []
    },
    {
      "cell_type": "code",
      "source": [
        "# Step - 6 -> Label encoding -> It will convert my categorical column into numerical columns (bcz my machine understand numerical values)"
      ],
      "metadata": {
        "id": "yIx0CUV8XkkC"
      },
      "execution_count": null,
      "outputs": []
    },
    {
      "cell_type": "code",
      "source": [
        "from sklearn.preprocessing import LabelEncoder"
      ],
      "metadata": {
        "id": "sYL-je82eqrr"
      },
      "execution_count": null,
      "outputs": []
    },
    {
      "cell_type": "code",
      "source": [
        "le = LabelEncoder()\n"
      ],
      "metadata": {
        "id": "x4dhaZUqe8Ij"
      },
      "execution_count": null,
      "outputs": []
    },
    {
      "cell_type": "code",
      "source": [
        "# fit -> Helps model to understand the data\n",
        "# transform -> Helps to change the data\n",
        "# fit_transform -> Helps you to understand and change at one go\n",
        "for col in df.columns:\n",
        "  if df[col].dtypes=='object':\n",
        "    df[col] = le.fit_transform(df[col])"
      ],
      "metadata": {
        "id": "LiKMfJnlfPgw"
      },
      "execution_count": null,
      "outputs": []
    },
    {
      "cell_type": "code",
      "source": [
        "df"
      ],
      "metadata": {
        "id": "gGeAxAl-gbnQ"
      },
      "execution_count": null,
      "outputs": []
    },
    {
      "cell_type": "markdown",
      "source": [
        "We have converted all the categorical columns into numerical column"
      ],
      "metadata": {
        "id": "Ne12hll3g2gh"
      }
    },
    {
      "cell_type": "code",
      "source": [
        "df.info()"
      ],
      "metadata": {
        "id": "W3cuUOymgcf-"
      },
      "execution_count": null,
      "outputs": []
    },
    {
      "cell_type": "markdown",
      "source": [
        "# Ordinal encoding -> Assign value according to your order\n",
        "* short - 0\n",
        "* medium - 1\n",
        "* high - 2\n",
        "* tallest - 3\n",
        "\n",
        "\n",
        "# Label encoding -> there is no order\n",
        "* short - 3\n",
        "* medium - 1\n"
      ],
      "metadata": {
        "id": "r9tbMacihBiQ"
      }
    },
    {
      "cell_type": "markdown",
      "source": [
        "step -7 : Model building"
      ],
      "metadata": {
        "id": "JxCmI1w4i0s3"
      }
    },
    {
      "cell_type": "code",
      "source": [
        "x = df.iloc[:,:-1] # Independent variables\n",
        "y = df['income'] # dependent variables\n"
      ],
      "metadata": {
        "id": "zFFuQKB2g8ha"
      },
      "execution_count": null,
      "outputs": []
    },
    {
      "cell_type": "code",
      "source": [
        "x"
      ],
      "metadata": {
        "id": "UjxJBICbkeFK"
      },
      "execution_count": null,
      "outputs": []
    },
    {
      "cell_type": "code",
      "source": [
        "y"
      ],
      "metadata": {
        "id": "Ig0FBztnkemi"
      },
      "execution_count": null,
      "outputs": []
    },
    {
      "cell_type": "code",
      "source": [
        "# Split the data -> Xtrain, ytrain, xtest,ytest\n",
        "from sklearn.model_selection import train_test_split"
      ],
      "metadata": {
        "id": "dMOW7iOikhTK"
      },
      "execution_count": null,
      "outputs": []
    },
    {
      "cell_type": "code",
      "source": [
        "x_train,x_test,y_train,y_test=train_test_split(x,y,test_size=0.2,random_state=0)"
      ],
      "metadata": {
        "id": "vMPIro1Bk1Di"
      },
      "execution_count": null,
      "outputs": []
    },
    {
      "cell_type": "markdown",
      "source": [
        "# Classifications models that we have\n",
        "* logistic\n",
        "* Decision tree\n",
        "* random tree"
      ],
      "metadata": {
        "id": "PHz3GvDwl8Yf"
      }
    },
    {
      "cell_type": "code",
      "source": [
        "from sklearn.linear_model import LogisticRegression"
      ],
      "metadata": {
        "id": "EJyF8k-Olq9x"
      },
      "execution_count": null,
      "outputs": []
    },
    {
      "cell_type": "code",
      "source": [
        "my_model = LogisticRegression()"
      ],
      "metadata": {
        "id": "pHk_YUNcn4d2"
      },
      "execution_count": null,
      "outputs": []
    },
    {
      "cell_type": "code",
      "source": [
        "# Train my model\n",
        "my_model.fit(x_train,y_train)"
      ],
      "metadata": {
        "id": "0YPFVDvan9Sr"
      },
      "execution_count": null,
      "outputs": []
    },
    {
      "cell_type": "code",
      "source": [
        "y_pred = my_model.predict(x_test)"
      ],
      "metadata": {
        "id": "gFYSUCvhoK7H"
      },
      "execution_count": null,
      "outputs": []
    },
    {
      "cell_type": "code",
      "source": [
        "y_pred"
      ],
      "metadata": {
        "id": "OKbmuxokoUNk"
      },
      "execution_count": null,
      "outputs": []
    },
    {
      "cell_type": "markdown",
      "source": [
        "0 -> income <=50k/year\n",
        "\n",
        "1 -> income > 50k/year"
      ],
      "metadata": {
        "id": "HX3hDdxwoa00"
      }
    },
    {
      "cell_type": "code",
      "source": [
        "from sklearn.metrics import *"
      ],
      "metadata": {
        "id": "43ary0lVoYSM"
      },
      "execution_count": null,
      "outputs": []
    },
    {
      "cell_type": "code",
      "source": [
        "lr_acc = accuracy_score(y_test,y_pred)"
      ],
      "metadata": {
        "id": "EA16FuZ6op7d"
      },
      "execution_count": null,
      "outputs": []
    },
    {
      "cell_type": "code",
      "source": [
        "lr_acc"
      ],
      "metadata": {
        "id": "5lJKN02ooyQj"
      },
      "execution_count": null,
      "outputs": []
    },
    {
      "cell_type": "markdown",
      "source": [
        "# Decision Tree"
      ],
      "metadata": {
        "id": "pN0y563Do2KK"
      }
    },
    {
      "cell_type": "code",
      "source": [
        "from sklearn.tree import DecisionTreeClassifier"
      ],
      "metadata": {
        "id": "vOcQP_Sioy_S"
      },
      "execution_count": null,
      "outputs": []
    },
    {
      "cell_type": "code",
      "source": [
        "dtc= DecisionTreeClassifier()"
      ],
      "metadata": {
        "id": "QBhVf6zipCaI"
      },
      "execution_count": null,
      "outputs": []
    },
    {
      "cell_type": "code",
      "source": [
        "dtc.fit(x_train,y_train)"
      ],
      "metadata": {
        "id": "dU0-exi8pH1b"
      },
      "execution_count": null,
      "outputs": []
    },
    {
      "cell_type": "code",
      "source": [
        "dtc_pred = dtc.predict(x_test)"
      ],
      "metadata": {
        "id": "vaMGhAGkpMia"
      },
      "execution_count": null,
      "outputs": []
    },
    {
      "cell_type": "code",
      "source": [
        "dtc_pred"
      ],
      "metadata": {
        "id": "n3rHwfFvpc6u"
      },
      "execution_count": null,
      "outputs": []
    },
    {
      "cell_type": "code",
      "source": [
        "dtc_acc = accuracy_score(y_test,dtc_pred)"
      ],
      "metadata": {
        "id": "UeBaPmXqpg7_"
      },
      "execution_count": null,
      "outputs": []
    },
    {
      "cell_type": "code",
      "source": [
        "dtc_acc"
      ],
      "metadata": {
        "id": "7pwg9ZQBpqWy"
      },
      "execution_count": null,
      "outputs": []
    },
    {
      "cell_type": "code",
      "source": [
        "depth = [1,2,3,4,5,6,7,8,9,10,100]\n",
        "list1=[]\n",
        "for x in depth:\n",
        "  dt_model = DecisionTreeClassifier(max_depth = x,random_state=12)\n",
        "  dt_model.fit(x_train,y_train)\n",
        "  y_pred = dt_model.predict(x_test)\n",
        "  acc = accuracy_score(y_test,y_pred)\n",
        "  list1.append(acc)\n",
        "  print(\"maxDepth = \" ,x,\" acc = \", acc)\n",
        "print(max(list1))"
      ],
      "metadata": {
        "id": "6ijRL85VpriU"
      },
      "execution_count": null,
      "outputs": []
    },
    {
      "cell_type": "code",
      "source": [
        "# Random Forest"
      ],
      "metadata": {
        "id": "RxwIJtEPqzBP"
      },
      "execution_count": null,
      "outputs": []
    },
    {
      "cell_type": "code",
      "source": [
        "from sklearn.ensemble import RandomForestClassifier"
      ],
      "metadata": {
        "id": "RlUSbG7qrLpp"
      },
      "execution_count": null,
      "outputs": []
    },
    {
      "cell_type": "code",
      "source": [
        "rf = RandomForestClassifier()"
      ],
      "metadata": {
        "id": "E1OB4BnPrRF_"
      },
      "execution_count": null,
      "outputs": []
    },
    {
      "cell_type": "code",
      "source": [
        "rf.fit(x_train,y_train)\n"
      ],
      "metadata": {
        "id": "jkrW7poirUXc"
      },
      "execution_count": null,
      "outputs": []
    },
    {
      "cell_type": "code",
      "source": [
        "rf_pred = rf.predict(x_test)"
      ],
      "metadata": {
        "id": "7RQ8MYgsrYfi"
      },
      "execution_count": null,
      "outputs": []
    },
    {
      "cell_type": "code",
      "source": [
        "rf_pred"
      ],
      "metadata": {
        "id": "PIuVUhUDreWf"
      },
      "execution_count": null,
      "outputs": []
    },
    {
      "cell_type": "code",
      "source": [
        "rf_acc = accuracy_score(y_test,y_pred)"
      ],
      "metadata": {
        "id": "-mCi1bwsrfIm"
      },
      "execution_count": null,
      "outputs": []
    },
    {
      "cell_type": "code",
      "source": [
        "rf_acc"
      ],
      "metadata": {
        "id": "F8Vjx1Cgrkv6"
      },
      "execution_count": null,
      "outputs": []
    },
    {
      "cell_type": "code",
      "source": [
        "print(\"ACC of LR: \", lr_acc)\n",
        "print(\"acc of DT: \",max(list1))\n",
        "print(\"acc of RF: \",rf_acc)"
      ],
      "metadata": {
        "id": "qHMmhrg0rlc8"
      },
      "execution_count": null,
      "outputs": []
    },
    {
      "cell_type": "markdown",
      "source": [
        "# Decision Tree is the model i am going to use for mt census income data"
      ],
      "metadata": {
        "id": "w5FLm6vrsop7"
      }
    },
    {
      "cell_type": "code",
      "source": [],
      "metadata": {
        "id": "pQ48R06lsJQ2"
      },
      "execution_count": null,
      "outputs": []
    },
    {
      "cell_type": "code",
      "source": [],
      "metadata": {
        "id": "PACpGuLlsvVm"
      },
      "execution_count": null,
      "outputs": []
    }
  ]
}